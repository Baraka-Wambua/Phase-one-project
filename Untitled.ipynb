{
 "cells": [
  {
   "cell_type": "markdown",
   "id": "5e707402-0eda-4dbd-8c03-8a072c6d2a8f",
   "metadata": {},
   "source": [
    "# Phase One Project"
   ]
  },
  {
   "cell_type": "code",
   "execution_count": null,
   "id": "c4e2a866-2d3e-4569-86ad-f97a6a77e959",
   "metadata": {},
   "outputs": [],
   "source": []
  }
 ],
 "metadata": {
  "kernelspec": {
   "display_name": "Python 3 (ipykernel)",
   "language": "python",
   "name": "python3"
  },
  "language_info": {
   "codemirror_mode": {
    "name": "ipython",
    "version": 3
   },
   "file_extension": ".py",
   "mimetype": "text/x-python",
   "name": "python",
   "nbconvert_exporter": "python",
   "pygments_lexer": "ipython3",
   "version": "3.11.9"
  }
 },
 "nbformat": 4,
 "nbformat_minor": 5
}
