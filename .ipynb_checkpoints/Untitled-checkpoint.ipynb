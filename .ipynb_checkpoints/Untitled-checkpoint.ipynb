{
 "cells": [
  {
   "cell_type": "markdown",
   "id": "5e707402-0eda-4dbd-8c03-8a072c6d2a8f",
   "metadata": {},
   "source": [
    "# Phase One Project\n",
    "\n",
    "## Project Overview\n",
    "\n",
    "##### The company would like to expand. They want to venture into purchasing and operating airplanes.\n",
    "\n",
    "## Objectives.\n",
    "* 1. To determine which aircraft are the lowest risk\n",
    "* 2. To use analysis to provide best insights to help decide which aircraft to operate with."
   ]
  },
  {
   "cell_type": "markdown",
   "id": "3eb32d7d-b454-4a86-a96a-2f3e648fdb4a",
   "metadata": {},
   "source": [
    "## Data Provided.\n",
    "I will be using a dataset from National Transportation Safety Board. The data comprises of accident data from 1962 to 2023, showing civil aviation accidents and selected incidents in United States and International waters.."
   ]
  },
  {
   "cell_type": "code",
   "execution_count": 2,
   "id": "ca5ca314-c22c-4cc3-b3dc-6fa42cca6582",
   "metadata": {},
   "outputs": [],
   "source": [
    "# Importin the necessary libraries\n",
    "import pandas as pd\n",
    "import numpy as np\n",
    "import matplotlib.pyplot as plt"
   ]
  },
  {
   "cell_type": "code",
   "execution_count": 10,
   "id": "2a87023e-9b62-40fb-a7de-00defa2cef82",
   "metadata": {},
   "outputs": [
    {
     "name": "stderr",
     "output_type": "stream",
     "text": [
      "C:\\Users\\User\\AppData\\Local\\Temp\\ipykernel_3644\\1777994786.py:1: DtypeWarning: Columns (6,7,28) have mixed types. Specify dtype option on import or set low_memory=False.\n",
      "  df = pd.read_csv(\"AviationData.csv\",encoding='latin-1')\n"
     ]
    }
   ],
   "source": [
    "df = pd.read_csv(\"AviationData.csv\",encoding='latin-1')"
   ]
  },
  {
   "cell_type": "code",
   "execution_count": null,
   "id": "17b8e80b-852c-41af-85d8-b659b45982fb",
   "metadata": {},
   "outputs": [],
   "source": []
  }
 ],
 "metadata": {
  "kernelspec": {
   "display_name": "Python 3 (ipykernel)",
   "language": "python",
   "name": "python3"
  },
  "language_info": {
   "codemirror_mode": {
    "name": "ipython",
    "version": 3
   },
   "file_extension": ".py",
   "mimetype": "text/x-python",
   "name": "python",
   "nbconvert_exporter": "python",
   "pygments_lexer": "ipython3",
   "version": "3.11.9"
  }
 },
 "nbformat": 4,
 "nbformat_minor": 5
}
